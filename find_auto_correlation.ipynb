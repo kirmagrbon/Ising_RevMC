{
 "cells": [
  {
   "cell_type": "code",
   "execution_count": null,
   "metadata": {},
   "outputs": [],
   "source": [
    "import ising_simulation_class as ising\n",
    "\n",
    "import matplotlib\n",
    "import numpy as np\n",
    "import matplotlib.pyplot as plt\n",
    "\n",
    "from ipywidgets import FloatProgress ### Download ipywidgets in order to have progress bars, otherwise comment\n",
    "from IPython.display import display  ### the lines marked with ipywidgets out\n",
    "import time\n",
    "\n",
    "from scipy.optimize import curve_fit\n"
   ]
  },
  {
   "cell_type": "code",
   "execution_count": null,
   "metadata": {},
   "outputs": [],
   "source": [
    "MC_STEPS = 2000\n",
    "DIM = 32\n",
    "temp = 2.269 ### 2.269\n",
    "J = 1\n",
    "ITER = []\n",
    "TIME = []\n",
    "MAG = []\n",
    "\n",
    "def tau(M):\n",
    "#   unintegrated autocorrelation curve\n",
    "    autocorr = auto_corr(M)    \n",
    "#   integrated tau = 1 + 2*sum(G)\n",
    "    return 1 + 2*np.sum(autocorr), autocorr\n",
    "\n",
    "def auto_corr(M):\n",
    "    kappa = 500\n",
    "    auto_corr = np.zeros(kappa-1)\n",
    "    mu = np.mean(M)\n",
    "    for s in range(1,kappa-1):\n",
    "        auto_corr[s] = np.mean( (M[:-s]-mu) * (M[s:]-mu) ) / np.var(M)\n",
    "    return auto_corr\n",
    "\n",
    "\n",
    "f = FloatProgress(min=0, max=MC_STEPS, description='Simulating...',) ### ipywidgtes\n",
    "display(f) ### ipywidgtes\n",
    "sim = ising.simulation(temperature=temp,c_strength=J,dimension=DIM)\n",
    "start = time.time()\n",
    "test = []\n",
    "for i in range (MC_STEPS): ### DIM**2\n",
    "    sim.metropolis()\n",
    "    if i % 1 == 0: ### so after every MC STEP\n",
    "        ITER.append(i)\n",
    "        MAG.append(sim.get_magnetization())\n",
    "        end = time.time()\n",
    "        TIME.append(end-start)\n",
    "    if i % 1 == 0: f.value+=1\n",
    "f.close()\n",
    "\n",
    "IAC, AUTO_CORR = tau(MAG)\n",
    "print(IAC)"
   ]
  },
  {
   "cell_type": "code",
   "execution_count": null,
   "metadata": {},
   "outputs": [],
   "source": [
    "def func(x,a,b):\n",
    "    return a*np.exp(-x/b)\n",
    "\n",
    "X = np.arange(len(AUTO_CORR))\n",
    "x_fit = X[1:100]\n",
    "y_fit = AUTO_CORR[1:100]\n",
    "\n",
    "popt,pcov =curve_fit(func,x_fit,y_fit)\n",
    "perr = np.sqrt(np.diag(pcov))\n",
    "\n",
    "plt.figure(num=None, figsize=(4, 4), facecolor='w', edgecolor='k')\n",
    "#plt.xlim(1,500)\n",
    "#plt.ylim(-1,1)\n",
    "plt.xlabel(\"MC Steps t\")\n",
    "plt.ylabel(r\"$\\Gamma_X(t)$\")\n",
    "plt.plot(X[1:],AUTO_CORR[1:],\".\",markersize=1,label=\"data\")\n",
    "fit1=r'$\\tau_0=$'+str(round(popt[1],2))+r'$\\pm$'+str(round(perr[1],2))\n",
    "#fit1= r\"fit function\"\n",
    "plt.plot(X, popt[0]*np.exp(-X/popt[1]),label=fit1, lw=1)\n",
    "#plt.axhline(y=mag_avg, color='r', lw=1)\n",
    "plt.legend(loc=\"best\",prop={'size': 6.5})\n",
    "plt.tight_layout()\n",
    "plt.savefig('autocorrelation.png',dpi=300)\n"
   ]
  },
  {
   "cell_type": "code",
   "execution_count": null,
   "metadata": {},
   "outputs": [],
   "source": []
  },
  {
   "cell_type": "code",
   "execution_count": null,
   "metadata": {},
   "outputs": [],
   "source": []
  },
  {
   "cell_type": "code",
   "execution_count": null,
   "metadata": {},
   "outputs": [],
   "source": []
  }
 ],
 "metadata": {
  "kernelspec": {
   "display_name": "Python 3",
   "language": "python",
   "name": "python3"
  },
  "language_info": {
   "codemirror_mode": {
    "name": "ipython",
    "version": 3
   },
   "file_extension": ".py",
   "mimetype": "text/x-python",
   "name": "python",
   "nbconvert_exporter": "python",
   "pygments_lexer": "ipython3",
   "version": "3.5.2"
  }
 },
 "nbformat": 4,
 "nbformat_minor": 2
}
